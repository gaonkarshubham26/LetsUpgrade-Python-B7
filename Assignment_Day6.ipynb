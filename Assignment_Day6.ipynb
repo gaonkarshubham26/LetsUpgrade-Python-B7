{
 "cells": [
  {
   "cell_type": "code",
   "execution_count": null,
   "metadata": {},
   "outputs": [],
   "source": [
    "#Assignment 1"
   ]
  },
  {
   "cell_type": "code",
   "execution_count": 9,
   "metadata": {},
   "outputs": [],
   "source": [
    "class bankBalance():\n",
    "    def __init__ (self, OwnerName, Balance):\n",
    "        self.OwnerName= OwnerName\n",
    "        self.Balance= Balance\n",
    "   \n",
    "    def deposit(self):\n",
    "        depositAmt= float(input(\"Enter an amount to be deposited-\"))\n",
    "        self.Balance= self.Balance + depositAmt\n",
    "        print(\"OwnerName-\", self.OwnerName)\n",
    "        print(\"Total Available Balance-\",self.Balance )\n",
    "        \n",
    "    def withdraw(self):\n",
    "        withdrawAmt= float(input(\"Enter an amount to withdraw-\"))\n",
    "        self.Balance = self.Balance - withdrawAmt\n",
    "        if self.Balance < withdrawAmt:\n",
    "            print(\"Insufficient Balance\")\n",
    "        else:\n",
    "            print(\"OwnerName\", self.OwnerName)\n",
    "            print(\"Total Available Balance\", self.Balance)"
   ]
  },
  {
   "cell_type": "code",
   "execution_count": 16,
   "metadata": {},
   "outputs": [],
   "source": [
    "Acct =bankBalance(\"Shubham Gaonkar\", 1000)"
   ]
  },
  {
   "cell_type": "code",
   "execution_count": 11,
   "metadata": {},
   "outputs": [
    {
     "name": "stdout",
     "output_type": "stream",
     "text": [
      "Enter an amount to be deposited-5000\n",
      "OwnerName- Shubham Gaonkar\n",
      "Total Available Balance- 6000.0\n"
     ]
    }
   ],
   "source": [
    "Acct.deposit()"
   ]
  },
  {
   "cell_type": "code",
   "execution_count": 12,
   "metadata": {},
   "outputs": [
    {
     "name": "stdout",
     "output_type": "stream",
     "text": [
      "Enter an amount to withdraw-200\n",
      "OwnerName Shubham Gaonkar\n",
      "Total Available Balance 5800.0\n"
     ]
    }
   ],
   "source": [
    "Acct.withdraw()"
   ]
  },
  {
   "cell_type": "code",
   "execution_count": 17,
   "metadata": {},
   "outputs": [
    {
     "name": "stdout",
     "output_type": "stream",
     "text": [
      "Enter an amount to withdraw-5900\n",
      "Insufficient Balance\n"
     ]
    }
   ],
   "source": [
    "Acct.withdraw()"
   ]
  },
  {
   "cell_type": "code",
   "execution_count": 18,
   "metadata": {},
   "outputs": [],
   "source": [
    "#Assignment 2"
   ]
  },
  {
   "cell_type": "code",
   "execution_count": 7,
   "metadata": {},
   "outputs": [],
   "source": [
    "class cone():\n",
    "    def __init__(self, radius, height):\n",
    "        self.radius= radius\n",
    "        self.height = height\n",
    "        \n",
    "    def volume(self):\n",
    "        self.radius = float(input(\"Radius-\"))\n",
    "        self.height = float(input(\"Height-\"))\n",
    "        Volume = 3.14 *(self.radius**2)* (self.height/3)\n",
    "        print(\"Volume of cone is = \", Volume )\n",
    "        \n",
    "    def surfaceArea(self):\n",
    "        self.radius = float(input(\"Radius-\"))\n",
    "        self.height = float(input(\"Height-\"))\n",
    "        BaseArea = 3.14 * (self.radius**2)\n",
    "        SideArea = 3.14 * self.radius * (((self.radius**2)\n",
    "                                          +(self.height**2))**0.5)\n",
    "        print(\"Base surface area of cone is \", BaseArea)\n",
    "        print(\"Curved surface area of cone is\", SideArea)\n",
    "        print(\"Total Surface Area of Cone is \", BaseArea+SideArea)"
   ]
  },
  {
   "cell_type": "code",
   "execution_count": 8,
   "metadata": {},
   "outputs": [],
   "source": [
    "con= cone(\"Radius\", \"Height\")"
   ]
  },
  {
   "cell_type": "code",
   "execution_count": 10,
   "metadata": {},
   "outputs": [
    {
     "name": "stdout",
     "output_type": "stream",
     "text": [
      "Radius-5\n",
      "Height-10\n",
      "Volume of cone is =  261.6666666666667\n"
     ]
    }
   ],
   "source": [
    "con.volume()"
   ]
  },
  {
   "cell_type": "code",
   "execution_count": 11,
   "metadata": {
    "scrolled": true
   },
   "outputs": [
    {
     "name": "stdout",
     "output_type": "stream",
     "text": [
      "Radius-5\n",
      "Height-10\n",
      "Base surface area of cone is  78.5\n",
      "Curved surface area of cone is 175.5313362337335\n",
      "Total Surface Area of Cone is  254.0313362337335\n"
     ]
    }
   ],
   "source": [
    "con.surfaceArea()"
   ]
  },
  {
   "cell_type": "code",
   "execution_count": null,
   "metadata": {},
   "outputs": [],
   "source": []
  }
 ],
 "metadata": {
  "kernelspec": {
   "display_name": "Python 3",
   "language": "python",
   "name": "python3"
  },
  "language_info": {
   "codemirror_mode": {
    "name": "ipython",
    "version": 3
   },
   "file_extension": ".py",
   "mimetype": "text/x-python",
   "name": "python",
   "nbconvert_exporter": "python",
   "pygments_lexer": "ipython3",
   "version": "3.8.3"
  }
 },
 "nbformat": 4,
 "nbformat_minor": 4
}
